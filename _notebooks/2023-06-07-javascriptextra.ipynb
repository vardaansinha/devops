{
 "cells": [
  {
   "cell_type": "code",
   "execution_count": 1,
   "metadata": {
    "vscode": {
     "languageId": "html"
    }
   },
   "outputs": [
    {
     "data": {
      "text/html": [
       "<!-- load jQuery and tablesorter scripts -->\n",
       "<!-- this doesn't work in jupyter but will work in GitHub pages -->\n",
       "<html>\n",
       "    <head>\n",
       "        <!-- load jQuery and DataTables syle and scripts -->\n",
       "    <link rel=\"stylesheet\" type=\"text/css\" href=\"https://cdn.datatables.net/1.13.4/css/jquery.dataTables.min.css\">\n",
       "    <!--<script type=\"text/javascript\" language=\"javascript\" src=\"https://code.jquery.com/jquery-3.5.1.js\"></script>-->\n",
       "    <script type=\"text/javascript\" language=\"javascript\" src=\"https://cdn.datatables.net/1.13.4/js/jquery.dataTables.min.js\"></script>\n",
       "    <script>\n",
       "        $(document).ready(function () {\n",
       "            $.noConflict();\n",
       "            console.log(\"Loading table data\");\n",
       "            $('#premierleague').DataTable({\n",
       "                // read data from the ajax request\n",
       "                ajax: 'https://tri3dev.duckdns.org/api/premierleagueplayer/',\n",
       "                // use follow columns \n",
       "                columns: [{\"title\":\"name\"},\n",
       "                    {\"title\":\"team\"},\n",
       "                    {\"title\":\"position\"},\n",
       "                    {\"title\":\"jersey_number\"},\n",
       "                    {\"title\":\"age\"},\n",
       "                    {\"title\":\"height\"},\n",
       "                    {\"title\":\"weight\"},\n",
       "                    {\"title\":\"goals\"},\n",
       "                    {\"title\":\"assists\"},\n",
       "                    {\"title\":\"yellow_cards\"},\n",
       "                    {\"title\":\"red_cards\"},\n",
       "                    {\"title\":\"passes_completed\"},\n",
       "                    {\"title\":\"tackles\"},\n",
       "                    {\"title\":\"clean_sheets\"}]\n",
       "            });\n",
       "        });\n",
       "  </script>\n",
       "    \n",
       "    </head>\n",
       "\n",
       "    <body>\n",
       "<!--defines the tableID that is going to be referred to in the future-->\n",
       "<table id=\"premierleague\">\n",
       "<!-- no need to define table header here, DataTable will take care of it -->\n",
       "</table>\n",
       "\n",
       "</body>\n",
       "</html>\n"
      ],
      "text/plain": [
       "<IPython.core.display.HTML object>"
      ]
     },
     "metadata": {},
     "output_type": "display_data"
    }
   ],
   "source": [
    "%%html\n",
    "<!-- load jQuery and tablesorter scripts -->\n",
    "<!-- this doesn't work in jupyter but will work in GitHub pages -->\n",
    "<html>\n",
    "    <head>\n",
    "        <!-- load jQuery and DataTables syle and scripts -->\n",
    "    <link rel=\"stylesheet\" type=\"text/css\" href=\"https://cdn.datatables.net/1.13.4/css/jquery.dataTables.min.css\">\n",
    "    <!--<script type=\"text/javascript\" language=\"javascript\" src=\"https://code.jquery.com/jquery-3.5.1.js\"></script>-->\n",
    "    <script type=\"text/javascript\" language=\"javascript\" src=\"https://cdn.datatables.net/1.13.4/js/jquery.dataTables.min.js\"></script>\n",
    "    <script>\n",
    "        $(document).ready(function () {\n",
    "            $.noConflict();\n",
    "            console.log(\"Loading table data\");\n",
    "            $('#premierleague').DataTable({\n",
    "                // read data from the ajax request\n",
    "                ajax: 'https://tri3dev.duckdns.org/api/premierleagueplayer/',\n",
    "                // use follow columns \n",
    "                columns: [{\"title\":\"name\"},\n",
    "                    {\"title\":\"team\"},\n",
    "                    {\"title\":\"position\"},\n",
    "                    {\"title\":\"jersey_number\"},\n",
    "                    {\"title\":\"age\"},\n",
    "                    {\"title\":\"height\"},\n",
    "                    {\"title\":\"weight\"},\n",
    "                    {\"title\":\"goals\"},\n",
    "                    {\"title\":\"assists\"},\n",
    "                    {\"title\":\"yellow_cards\"},\n",
    "                    {\"title\":\"red_cards\"},\n",
    "                    {\"title\":\"passes_completed\"},\n",
    "                    {\"title\":\"tackles\"},\n",
    "                    {\"title\":\"clean_sheets\"}]\n",
    "            });\n",
    "        });\n",
    "  </script>\n",
    "    \n",
    "    </head>\n",
    "\n",
    "    <body>\n",
    "<!--defines the tableID that is going to be referred to in the future-->\n",
    "<table id=\"premierleague\">\n",
    "<!-- no need to define table header here, DataTable will take care of it -->\n",
    "</table>\n",
    "\n",
    "</body>\n",
    "</html>"
   ]
  }
 ],
 "metadata": {
  "kernelspec": {
   "display_name": "base",
   "language": "python",
   "name": "python3"
  },
  "language_info": {
   "codemirror_mode": {
    "name": "ipython",
    "version": 3
   },
   "file_extension": ".py",
   "mimetype": "text/x-python",
   "name": "python",
   "nbconvert_exporter": "python",
   "pygments_lexer": "ipython3",
   "version": "3.9.12"
  },
  "orig_nbformat": 4
 },
 "nbformat": 4,
 "nbformat_minor": 2
}

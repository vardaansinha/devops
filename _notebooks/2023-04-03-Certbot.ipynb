{
 "cells": [
  {
   "cell_type": "code",
   "execution_count": null,
   "metadata": {},
   "outputs": [],
   "source": []
  },
  {
   "cell_type": "markdown",
   "metadata": {},
   "source": [
    "acme.sh: acme.sh is a shell script that provides an alternative way to obtain and manage SSL/TLS certificates. It is a lightweight and versatile tool that can be used on a wide variety of web servers, including Apache, Nginx, and HAProxy. acme.sh uses the ACME protocol to communicate with Let's Encrypt and other certificate authorities, and supports a variety of verification methods, including DNS, HTTP, and TLS-SNI.\n",
    "Here's an example Python code that uses acme.sh to obtain a certificate for a domain:"
   ]
  },
  {
   "cell_type": "code",
   "execution_count": null,
   "metadata": {},
   "outputs": [],
   "source": [
    "import subprocess\n",
    "# set the domain name and web root directory\n",
    "domain = \"example.com\"\n",
    "webroot = \"/var/www/html\"\n",
    "# run the acme.sh command to obtain a certificate\n",
    "cmd = f\"acme.sh --issue --webroot {webroot} -d {domain}\"\n",
    "subprocess.run(cmd.split())"
   ]
  },
  {
   "cell_type": "markdown",
   "metadata": {},
   "source": [
    "ZeroSSL: ZeroSSL is a web-based certificate management tool that provides an alternative to Certbot. It allows you to obtain and manage SSL/TLS certificates through a web interface, without the need to install any software on your server. ZeroSSL supports both Let's Encrypt and Sectigo certificate authorities, and offers a variety of verification methods, including HTTP, DNS, and Email.\n",
    "Here's an example Python code that uses ZeroSSL to obtain a certificate for a domain:"
   ]
  },
  {
   "cell_type": "code",
   "execution_count": null,
   "metadata": {},
   "outputs": [],
   "source": [
    "import requests\n",
    "# set the domain name and email address\n",
    "domain = \"example.com\"\n",
    "email = \"user@example.com\"\n",
    "# make a request to ZeroSSL to obtain a certificate\n",
    "response = requests.post(\"https://zerossl.com/api/v2/certificates\", json={\n",
    "    \"email\": email,\n",
    "    \"domains\": [domain],\n",
    "    \"certificate_validity_days\": 90,\n",
    "    \"validation_methods\": [\"http\", \"https\", \"dns\"]\n",
    "})\n",
    "# get the certificate data from the response\n",
    "certificate = response.json()[\"certificate\"]\n",
    "private_key = response.json()[\"key\"]"
   ]
  },
  {
   "cell_type": "markdown",
   "metadata": {},
   "source": [
    "ego: lego is a command-line tool that provides an alternative to Certbot for managing SSL/TLS certificates. It supports a variety of web servers, including Apache, Nginx, and Caddy, and uses the ACME protocol to communicate with Let's Encrypt and other certificate authorities. lego offers a wide range of features, including support for wildcard certificates, DNS validation, and certificate bundling.\n",
    "Here's an example Python code that uses lego to obtain a certificate for a domain:"
   ]
  }
 ],
 "metadata": {
  "language_info": {
   "name": "python"
  },
  "orig_nbformat": 4
 },
 "nbformat": 4,
 "nbformat_minor": 2
}

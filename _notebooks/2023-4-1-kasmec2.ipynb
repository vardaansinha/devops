{
 "cells": [
  {
   "attachments": {},
   "cell_type": "markdown",
   "metadata": {},
   "source": [
    "#  kasm virtual machine EC2 guide\n",
    "> running docker containers through kasm for added security\n",
    "- toc: true\n",
    "- categories: []"
   ]
  },
  {
   "attachments": {},
   "cell_type": "markdown",
   "metadata": {},
   "source": [
    "# requirements\n",
    "\n",
    "| minimum requirements |              |\n",
    "|----------------------|--------------|\n",
    "| memory               | 4 GB         |\n",
    "| CPU                  | 2 cores      |\n",
    "| storage              | 50 GB on SSD |\n",
    "\n",
    "Note: I do not meet the requirements to run KASM as a vm on my laptop, therefore this guide has not been tested. I will try maybe setting all this up on a seperate device if I can. Maybe everything could be installed on our AWS?\n",
    "\n",
    "apparently AWS free tier only gives 30 GB. I guess I'll talk to cs teachers later?\n",
    "\n",
    "# installation\n",
    "\n",
    "simply run the following in terminal to install"
   ]
  },
  {
   "cell_type": "code",
   "execution_count": null,
   "metadata": {
    "vscode": {
     "languageId": "powershell"
    }
   },
   "outputs": [],
   "source": [
    "cd /tmp\n",
    "curl -O https://kasm-static-content.s3.amazonaws.com/kasm_release_1.12.0.d4fd8a.tar.gz\n",
    "tar -xf kasm_release_1.12.0.d4fd8a.tar.gz\n",
    "sudo bash kasm_release/install.sh\n"
   ]
  },
  {
   "attachments": {},
   "cell_type": "markdown",
   "metadata": {},
   "source": [
    "afterwards, the console will print out some credentials that you MUST save somewhere for logging in later.\n",
    "\n",
    "If your PC does not have a swap file, you will need to create one immediately after installing KASM\n",
    "\n",
    "\n",
    "simply run the following commands in terminal:"
   ]
  },
  {
   "cell_type": "code",
   "execution_count": null,
   "metadata": {
    "vscode": {
     "languageId": "powershell"
    }
   },
   "outputs": [],
   "source": [
    "sudo bash kasm_release/install.sh --accept-eula --swap-size 4096"
   ]
  },
  {
   "attachments": {},
   "cell_type": "markdown",
   "metadata": {},
   "source": [
    "After all the installation, you can access your KASM VM by going to the ip address you set up KASM on. From there, you must log in as admin, which will allow you to manage enviorments and workspaces\n",
    "\n",
    "If you want to run a program in the VM, click on workspaces and just run the program you want to run from the menu.\n",
    "\n",
    "## important\n",
    "\n",
    "you should be able to run all of this in an ec2 instance on AWS and then be able to run docker images stored on your instance through KASM. However, storage on EC2 instances is limited. If you are able to run docker images on an ec2 instance with KASM, that would be really impressive.\n",
    "\n"
   ]
  }
 ],
 "metadata": {
  "kernelspec": {
   "display_name": "base",
   "language": "python",
   "name": "python3"
  },
  "language_info": {
   "name": "python",
   "version": "3.9.12"
  },
  "orig_nbformat": 4
 },
 "nbformat": 4,
 "nbformat_minor": 2
}

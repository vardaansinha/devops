{
 "cells": [
  {
   "attachments": {},
   "cell_type": "markdown",
   "metadata": {},
   "source": [
    "#  kasm virtual machine EC2 guide\n",
    "> running docker containers through kasm for added security\n",
    "- toc: true\n",
    "- categories: []"
   ]
  },
  {
   "attachments": {},
   "cell_type": "markdown",
   "metadata": {},
   "source": [
    "# requirements\n",
    "\n",
    "| minimum requirements |              |\n",
    "|----------------------|--------------|\n",
    "| memory               | 4 GB         |\n",
    "| CPU                  | 2 cores      |\n",
    "| storage              | 50 GB on SSD |\n",
    "\n",
    "Note: I do not meet the requirements to run KASM as a vm on my laptop, therefore this guide has not been tested. I will try maybe setting all this up on a seperate device if I can. Maybe everything could be installed on our AWS?\n",
    "\n",
    "apparently AWS free tier only gives 30 GB. I guess I'll talk to cs teachers later?\n",
    "\n",
    "# installation\n",
    "\n",
    "simply run the following in terminal to install"
   ]
  },
  {
   "cell_type": "code",
   "execution_count": null,
   "metadata": {
    "vscode": {
     "languageId": "powershell"
    }
   },
   "outputs": [],
   "source": [
    "cd /tmp\n",
    "curl -O https://kasm-static-content.s3.amazonaws.com/kasm_release_1.12.0.d4fd8a.tar.gz\n",
    "tar -xf kasm_release_1.12.0.d4fd8a.tar.gz\n",
    "sudo bash kasm_release/install.sh\n"
   ]
  }
 ],
 "metadata": {
  "language_info": {
   "name": "python"
  },
  "orig_nbformat": 4
 },
 "nbformat": 4,
 "nbformat_minor": 2
}

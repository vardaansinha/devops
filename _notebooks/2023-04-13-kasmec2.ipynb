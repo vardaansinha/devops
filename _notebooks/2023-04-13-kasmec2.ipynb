{
 "cells": [
  {
   "attachments": {},
   "cell_type": "markdown",
   "metadata": {},
   "source": [
    "#  KASM Virtual Desktop on EC2 Guide\n",
    "> Running Docker containers through KASM for added security\n",
    "- toc: true\n",
    "- categories: []"
   ]
  },
  {
   "attachments": {},
   "cell_type": "markdown",
   "metadata": {},
   "source": [
    "# Single Server Installation\n",
    "\n",
    "We will be going through the single server installation, as this is the most efficient method in terms of ease of deployment.\n",
    "\n",
    "**QUESTION: What are the other installation types? How are they similar or different from the single server installation?**"
   ]
  },
  {
   "attachments": {},
   "cell_type": "markdown",
   "metadata": {},
   "source": [
    "# Minimum Requirements\n",
    "\n",
    "| Minimum Requirements |              |\n",
    "|----------------------|--------------|\n",
    "| Memory               | 4 GB         |\n",
    "| CPU                  | 2 cores      |\n",
    "| Storage              | 50 GB on SSD |\n",
    "\n",
    "\n",
    "# Installation\n",
    "\n",
    "Run the following in Terminal to Install:"
   ]
  },
  {
   "cell_type": "code",
   "execution_count": null,
   "metadata": {
    "vscode": {
     "languageId": "powershell"
    }
   },
   "outputs": [],
   "source": [
    "cd /tmp\n",
    "curl -O https://kasm-static-content.s3.amazonaws.com/kasm_release_1.12.0.d4fd8a.tar.gz\n",
    "# This is downloading the latest version of KASM workspaces to the /tmp folder.\n",
    "tar -xf kasm_release_1.12.0.d4fd8a.tar.gz\n",
    "# This is extracting the package which was just downloaded.\n",
    "sudo bash kasm_release/install.sh\n",
    "# The installation script is being run for KASM.\n"
   ]
  },
  {
   "attachments": {},
   "cell_type": "markdown",
   "metadata": {},
   "source": [
    "# Swap Partition\n",
    "\n",
    "As recommended by KASM, a swap partition should be created for a smooth experience. Without a swap partition, a host with memory requirements being sufficiently met can meet stability problems. "
   ]
  },
  {
   "attachments": {},
   "cell_type": "markdown",
   "metadata": {},
   "source": [
    "If your PC does not have a swap file, you will need to create one immediately after installing KASM.\n",
    "\n",
    "\n",
    "Run the following command in Terminal:"
   ]
  },
  {
   "cell_type": "code",
   "execution_count": null,
   "metadata": {
    "vscode": {
     "languageId": "powershell"
    }
   },
   "outputs": [],
   "source": [
    "sudo bash kasm_release/install.sh --accept-eula --swap-size 4096"
   ]
  },
  {
   "attachments": {},
   "cell_type": "markdown",
   "metadata": {},
   "source": [
    "# Login Information\n",
    "\n",
    "After the package for the latest version of KASM has been extracted to the right folder and a swap partition has been created, you can log into the web application. The web application runs on port 443 (though configurations can be altered to run on another port):\n",
    "\n",
    "https://WEBAPP_SERVER_NAME_HERE\n",
    "\n",
    "You want to login with the Administrator account, which is defaulted to **admin@kasm.local** with randomly generated passwords. This will allow you to manage environments and workspaces. "
   ]
  },
  {
   "attachments": {},
   "cell_type": "markdown",
   "metadata": {},
   "source": [
    "## KASM Configurations\n",
    "\n",
    "Once you are logged in, you can change KASM configuration settings as an administrator by navigating to the \"Settings\" tab on the left side. \n",
    "\n",
    "Here are all of the settings stored in server settings which you can research in your free time: https://kasmweb.com/docs/latest/guide/settings.html\n",
    "\n",
    "Here, there are hundreds of settings which you can take a look at. Depending on the setting you are changing, you may need to restart ALL KASM services or certain individual services. \n",
    "\n",
    "Take a look below for the commands for these service restarts:"
   ]
  },
  {
   "cell_type": "code",
   "execution_count": null,
   "metadata": {
    "vscode": {
     "languageId": "powershell"
    }
   },
   "outputs": [],
   "source": [
    "# Restarting all services on the server\n",
    "\n",
    "cd /opt/kasm/bin \n",
    "# The opt directory is for all software and packages that are not installed by default on Linux. \n",
    "# This makes sense, since we installed KASM separately.\n",
    "\n",
    "./stop \n",
    "./start \n",
    "\n",
    "# All the services have been restarted.\n",
    "\n",
    "\n",
    "# Restarting individual services on the server:\n",
    "sudo docker restart kasm_agent\n",
    "sudo docker restart kasm_api \n",
    "sudo docker restart kasm_manager\n",
    "sudo docker restart kasm_db\n",
    "sudo docker restart kasm_proxy "
   ]
  },
  {
   "attachments": {},
   "cell_type": "markdown",
   "metadata": {},
   "source": [
    "## IMPORTANT\n",
    "\n",
    "You should be able to run all of this in an ec2 instance on AWS and then be able to run docker images stored on your instance through KASM. However, storage on EC2 instances is limited. If you are able to run docker images on an ec2 instance with KASM, that would be really impressive.\n",
    "\n"
   ]
  },
  {
   "attachments": {},
   "cell_type": "markdown",
   "metadata": {},
   "source": [
    "# HACKS FOR KASM\n",
    "\n",
    "1. In 3-4 sentences, please explain the significance of virtual desktops and KASM. How can virtual desktops such as these be utilized in our AP CSP environment? (0.45)\n",
    "\n",
    "2. Attempt to work through the KASM setup with your team. Attach two screenshots to show that you have successfully gone through the setup: The first screenshot of KASM generating your credentials, and the second screenshot of the KASM workspace once you have logged in. (0.45)\n",
    "\n",
    "\n"
   ]
  }
 ],
 "metadata": {
  "kernelspec": {
   "display_name": "Python 3",
   "language": "python",
   "name": "python3"
  },
  "language_info": {
   "name": "python",
   "version": "3.8.10"
  },
  "orig_nbformat": 4,
  "vscode": {
   "interpreter": {
    "hash": "916dbcbb3f70747c44a77c7bcd40155683ae19c65e1c03b4aa3499c5328201f1"
   }
  }
 },
 "nbformat": 4,
 "nbformat_minor": 2
}

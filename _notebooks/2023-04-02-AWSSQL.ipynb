{
 "cells": [
  {
   "attachments": {},
   "cell_type": "markdown",
   "metadata": {},
   "source": [
    "# Guide to SQLite vs AWS alternate databases\n",
    "> SQLite vs AWS alternate databses"
   ]
  },
  {
   "attachments": {},
   "cell_type": "markdown",
   "metadata": {},
   "source": [
    "# What is AWS"
   ]
  },
  {
   "attachments": {},
   "cell_type": "markdown",
   "metadata": {},
   "source": [
    "AWS offers several alternate databases in addition to their popular managed relational database service (RDS). These alternate databases provide different functionality and are optimized for specific use cases. One such alternate database is Amazon DynamoDB, which is a fast and flexible NoSQL database service that allows users to store and retrieve any amount of data, with  low latency and predictable performance.Another alternate database offered by AWS is Amazon Neptune, which is a fast, reliable, and fully-managed graph database service that makes it easy to build and run applications that work with highly connected datasets."
   ]
  },
  {
   "attachments": {},
   "cell_type": "markdown",
   "metadata": {},
   "source": [
    "# What is SQlite"
   ]
  },
  {
   "attachments": {},
   "cell_type": "markdown",
   "metadata": {},
   "source": [
    "SQLite is a widely used embedded database management system that is known for its simplicity, reliability, and ease of use. It is a serverless, self-contained, and transactional database engine that is designed to be embedded into applications rather than run as a standalone server. SQLite databases are stored as files on disk, making them easy to backup, copy, and transport between systems. They support standard SQL syntax and are fully ACID compliant, ensuring data consistency and reliability.\n",
    "\n"
   ]
  },
  {
   "cell_type": "code",
   "execution_count": null,
   "metadata": {},
   "outputs": [],
   "source": [
    "import sqlite3\n",
    "\n",
    "conn = sqlite3.connect('example.db')\n",
    "c = conn.cursor()\n",
    "\n",
    "# create table\n",
    "c.execute('''CREATE TABLE stocks\n",
    "             (date text, symbol text, price real)''')\n",
    "\n",
    "# insert data\n",
    "c.execute(\"INSERT INTO stocks VALUES ('2022-03-27', 'AAPL', 133.52)\")\n",
    "\n",
    "# save changes\n",
    "conn.commit()\n",
    "\n",
    "# query data\n",
    "for row in c.execute('SELECT * FROM stocks'):\n",
    "    print(row)\n",
    "\n",
    "conn.close()\n"
   ]
  },
  {
   "attachments": {},
   "cell_type": "markdown",
   "metadata": {},
   "source": [
    "# AWS Vs SQlite"
   ]
  },
  {
   "attachments": {},
   "cell_type": "markdown",
   "metadata": {},
   "source": [
    "SQLite is a lightweight, file-based relational database management system (RDBMS) that is well-suited for small-scale projects or applications. AWS offers a wide range of database options, including relational, NoSQL, and in-memory databases, each with its own set of pros and cons. Here are some of the pros and cons of alternative AWS databases in comparison to SQLite:\n",
    "\n",
    "Amazon Relational Database Service (RDS):\n",
    "Amazon RDS is a fully managed relational database service that supports multiple database engines, including MySQL, PostgreSQL, and Oracle.\n",
    "Pros:\n",
    "\n",
    "Scalability: RDS can easily scale to handle a large amount of traffic and data.\n",
    "High Availability: RDS offers automatic failover and backup options to ensure data availability.\n",
    "Security: RDS offers robust security features, such as encryption at rest and in transit.\n",
    "Managed Service: RDS is a managed service, meaning that AWS handles the administrative tasks of the database, such as backups, updates, and maintenance.\n",
    "Cons:\n",
    "\n",
    "Cost: RDS can be more expensive than SQLite, especially for small-scale projects or applications.\n",
    "Complexity: RDS can be more complex to set up and manage than SQLite.\n",
    "Amazon DynamoDB:\n",
    "Amazon DynamoDB is a NoSQL database that can handle large amounts of data and is designed for scalability and high availability."
   ]
  },
  {
   "attachments": {},
   "cell_type": "markdown",
   "metadata": {},
   "source": [
    "# AWS Databases"
   ]
  },
  {
   "attachments": {},
   "cell_type": "markdown",
   "metadata": {},
   "source": [
    "Amazon Web Services (AWS) provides a range of database services to meet various data storage and processing needs. Some of the popular AWS databases are:\n",
    "\n",
    "Amazon Relational Database Service (RDS): It provides fully managed relational databases, such as MySQL, PostgreSQL, Oracle, SQL Server, and Amazon Aurora.\n",
    "\n",
    "Amazon DynamoDB: It is a fully managed NoSQL database service that provides high performance, scalability, and automatic scaling of throughput capacity.\n",
    "\n",
    "Amazon Neptune: It is a fully managed graph database service that enables you to store and query highly connected data sets.\n",
    "\n",
    "Amazon DocumentDB: It is a fully managed document database service that is compatible with MongoDB workloads"
   ]
  },
  {
   "attachments": {},
   "cell_type": "markdown",
   "metadata": {},
   "source": [
    "# Code example: Source Geeks4Geeks.com"
   ]
  },
  {
   "cell_type": "code",
   "execution_count": null,
   "metadata": {},
   "outputs": [],
   "source": [
    "import boto3\n",
    "\n",
    "# create an RDS client\n",
    "rds = boto3.client('rds')\n",
    "\n",
    "# create a database instance\n",
    "db_instance_identifier = 'mydbinstance'\n",
    "db_instance_class = 'db.t2.micro'\n",
    "engine = 'mysql'\n",
    "master_username = 'myusername'\n",
    "master_password = 'mypassword'\n",
    "allocated_storage = 20\n",
    "\n",
    "rds.create_db_instance(\n",
    "    DBInstanceIdentifier=db_instance_identifier,\n",
    "    DBInstanceClass=db_instance_class,\n",
    "    Engine=engine,\n",
    "    MasterUsername=master_username,\n",
    "    MasterUserPassword=master_password,\n",
    "    AllocatedStorage=allocated_storage\n",
    ")\n",
    "\n",
    "# wait for the instance to become available\n",
    "rds.get_waiter('db_instance_available').wait(\n",
    "    DBInstanceIdentifier=db_instance_identifier\n",
    ")\n",
    "\n",
    "# create a database connection\n",
    "import mysql.connector\n",
    "\n",
    "cnx = mysql.connector.connect(\n",
    "    host='mydbinstance.cquf123456.us-west-2.rds.amazonaws.com',\n",
    "    user='myusername',\n",
    "    password='mypassword',\n",
    "    database='mydatabase'\n",
    ")\n",
    "\n",
    "# create a table\n",
    "cursor = cnx.cursor()\n",
    "\n",
    "table_query = (\n",
    "    \"CREATE TABLE IF NOT EXISTS users (\"\n",
    "    \" id INT AUTO_INCREMENT PRIMARY KEY,\"\n",
    "    \" name VARCHAR(255),\"\n",
    "    \" email VARCHAR(255)\"\n",
    "    \")\"\n",
    ")\n",
    "\n",
    "cursor.execute(table_query)\n",
    "\n",
    "# insert data\n",
    "insert_query = \"INSERT INTO users (name, email) VALUES (%s, %s)\"\n",
    "data = ('John', 'john@example.com')\n",
    "cursor.execute(insert_query, data)\n",
    "\n",
    "# query data\n",
    "select_query = \"SELECT * FROM users\"\n",
    "cursor.execute(select_query)\n",
    "\n",
    "# for loop\n",
    "for row in cursor:\n",
    "    print(row)\n",
    "\n",
    "# close the cursor and connection\n",
    "cursor.close()\n",
    "cnx.close()\n",
    "\n",
    "# delete the database instance\n",
    "rds.delete_db_instance(\n",
    "    DBInstanceIdentifier=db_instance_identifier,\n",
    "    SkipFinalSnapshot=True\n",
    ")\n",
    "\n",
    "# wait for the instance to be deleted\n",
    "rds.get_waiter('db_instance_deleted').wait(\n",
    "    DBInstanceIdentifier=db_instance_identifier\n",
    ")\n"
   ]
  },
  {
   "cell_type": "markdown",
   "metadata": {},
   "source": []
  },
  {
   "attachments": {},
   "cell_type": "markdown",
   "metadata": {},
   "source": [
    "Which of the following is not an AWS database option?\n",
    "\n",
    "A. Amazon RDS\n",
    "\n",
    "B. Amazon Neptune\n",
    "\n",
    "C. SQLite\n",
    "\n",
    "D. Amazon DynamoDB\n",
    "\n",
    "\n",
    "Which of the following is a file-based, lightweight RDBMS?\n",
    "\n",
    "A. Amazon RDS\n",
    "\n",
    "B. Amazon Neptune\n",
    "\n",
    "C Amazon DynamoDB\n",
    "\n",
    "D. SQLite\n",
    "\n",
    "\n",
    "Which AWS service enables you to store and query highly connected datasets?\n",
    "\n",
    "A. Amazon Relational Database Service (RDS)\n",
    "\n",
    "B. Amazon DynamoDB\n",
    "\n",
    "C. Amazon Neptune\n",
    "\n",
    "D. Amazon DocumentDB\n",
    "\n",
    "cdc"
   ]
  }
 ],
 "metadata": {
  "language_info": {
   "name": "python"
  },
  "orig_nbformat": 4
 },
 "nbformat": 4,
 "nbformat_minor": 2
}

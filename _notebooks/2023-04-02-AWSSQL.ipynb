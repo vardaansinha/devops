{
 "cells": [
  {
   "attachments": {},
   "cell_type": "markdown",
   "metadata": {},
   "source": [
    "# Guide to SQLite vs AWS alternate databases\n",
    "> SQLite vs AWS alternate databses\n",
    "- toc: true\n",
    "- categories: []"
   ]
  },
  {
   "attachments": {},
   "cell_type": "markdown",
   "metadata": {},
   "source": [
    "# What is AWS"
   ]
  },
  {
   "attachments": {},
   "cell_type": "markdown",
   "metadata": {},
   "source": [
    "AWS offers several alternate databases in addition to their popular managed relational database service (RDS). These alternate databases provide different functionality and are optimized for specific use cases. One such alternate database is Amazon DynamoDB, which is a fast and flexible NoSQL database service that allows users to store and retrieve any amount of data, with  low latency and predictable performance.Another alternate database offered by AWS is Amazon Neptune, which is a fast, reliable, and fully-managed graph database service that makes it easy to build and run applications that work with highly connected datasets."
   ]
  },
  {
   "attachments": {},
   "cell_type": "markdown",
   "metadata": {},
   "source": [
    "# What is SQlite"
   ]
  },
  {
   "attachments": {},
   "cell_type": "markdown",
   "metadata": {},
   "source": [
    "SQLite is a widely used embedded database management system that is known for its simplicity, reliability, and ease of use. It is a serverless, self-contained, and transactional database engine that is designed to be embedded into applications rather than run as a standalone server. SQLite databases are stored as files on disk, making them easy to backup, copy, and transport between systems. They support standard SQL syntax and are fully ACID compliant, ensuring data consistency and reliability.\n",
    "\n"
   ]
  },
  {
   "attachments": {},
   "cell_type": "markdown",
   "metadata": {},
   "source": [
    "![image](https://user-images.githubusercontent.com/48000753/234100264-aae81f0a-19b3-4d77-be94-96f68f94c899.png)\n"
   ]
  },
  {
   "attachments": {},
   "cell_type": "markdown",
   "metadata": {},
   "source": [
    "# AWS Vs SQlite"
   ]
  },
  {
   "attachments": {},
   "cell_type": "markdown",
   "metadata": {},
   "source": [
    "SQLite is a lightweight, file-based relational database management system (RDBMS) that is well-suited for small-scale projects or applications. AWS offers a wide range of database options, including relational, NoSQL, and in-memory databases, each with its own set of pros and cons. Here are some of the pros and cons of alternative AWS databases in comparison to SQLite:\n",
    "\n",
    "Amazon Relational Database Service (RDS):\n",
    "Amazon RDS is a fully managed relational database service that supports multiple database engines, including MySQL, PostgreSQL, and Oracle.\n",
    "Pros:\n",
    "\n",
    "Scalability: RDS can easily scale to handle a large amount of traffic and data.\n",
    "High Availability: RDS offers automatic failover and backup options to ensure data availability.\n",
    "Security: RDS offers robust security features, such as encryption at rest and in transit.\n",
    "Managed Service: RDS is a managed service, meaning that AWS handles the administrative tasks of the database, such as backups, updates, and maintenance.\n",
    "Cons:\n",
    "\n",
    "Cost: RDS can be more expensive than SQLite, especially for small-scale projects or applications.\n",
    "Complexity: RDS can be more complex to set up and manage than SQLite.\n",
    "Amazon DynamoDB:\n",
    "Amazon DynamoDB is a NoSQL database that can handle large amounts of data and is designed for scalability and high availability."
   ]
  },
  {
   "attachments": {},
   "cell_type": "markdown",
   "metadata": {},
   "source": [
    "# AWS Databases"
   ]
  },
  {
   "attachments": {},
   "cell_type": "markdown",
   "metadata": {},
   "source": [
    "Amazon Web Services (AWS) provides a range of database services to meet various data storage and processing needs. Some of the popular AWS databases are:\n",
    "\n",
    "Amazon Relational Database Service (RDS): It provides fully managed relational databases, such as MySQL, PostgreSQL, Oracle, SQL Server, and Amazon Aurora.\n",
    "\n",
    "Amazon DynamoDB: It is a fully managed NoSQL database service that provides high performance, scalability, and automatic scaling of throughput capacity.\n",
    "\n",
    "Amazon Neptune: It is a fully managed graph database service that enables you to store and query highly connected data sets.\n",
    "\n",
    "Amazon DocumentDB: It is a fully managed document database service that is compatible with MongoDB workloads"
   ]
  },
  {
   "attachments": {},
   "cell_type": "markdown",
   "metadata": {},
   "source": [
    "![image](https://user-images.githubusercontent.com/48000753/234100453-b0028f1c-55ba-4a90-ae7b-6c05ee688ee0.png)\n"
   ]
  },
  {
   "attachments": {},
   "cell_type": "markdown",
   "metadata": {},
   "source": [
    "# How to set up RDS\n",
    "1. Sign in to your AWS account or create a new one if you don't have an account yet.\n",
    "\n",
    "2. Go to the Amazon RDS service page and click on \"Create database.\"\n",
    "\n",
    "3. Choose the database engine you want to use from the list of options. Amazon RDS supports several popular database engines, including MySQL, PostgreSQL, Oracle, SQL Server, and more.\n",
    "\n",
    "4. Choose the database edition and version you want to use. Each database engine has different editions and versions available, so make sure to choose the one that best suits your needs.\n",
    "\n",
    "5. Choose the instance class for your database. This will determine the amount of CPU, memory, and storage allocated to your database instance.\n",
    "\n",
    "6. Configure the settings for your database instance, including the database name, master username and password, and any additional settings specific to your chosen database engine.\n",
    "\n",
    "7. Choose the VPC and subnet where you want to launch your database instance. You can also choose to create a new VPC if you don't have one already.\n",
    "\n",
    "8. Configure the security group settings for your database instance. This will determine which IP addresses are allowed to connect to your database instance and what ports are open for incoming traffic.\n",
    "\n",
    "9. Choose any additional options you want to enable, such as automatic backups, encryption, or performance insights.\n",
    "\n",
    "10. Review your settings and click on \"Create database\" to launch your Amazon RDS instance."
   ]
  },
  {
   "attachments": {},
   "cell_type": "markdown",
   "metadata": {},
   "source": [
    "# Example"
   ]
  },
  {
   "attachments": {},
   "cell_type": "markdown",
   "metadata": {},
   "source": [
    "![image](https://user-images.githubusercontent.com/48000753/234100622-6e1bef2b-ac42-4b4d-acad-694b34809a60.png)\n"
   ]
  },
  {
   "attachments": {},
   "cell_type": "markdown",
   "metadata": {},
   "source": [
    "Video to follow: https://www.youtube.com/watch?v=Ng_zi11N4_c"
   ]
  },
  {
   "attachments": {},
   "cell_type": "markdown",
   "metadata": {},
   "source": [
    "# Quiz\n",
    "\n",
    "\n",
    "Which of the following is not an AWS database option?\n",
    "\n",
    "A. Amazon RDS\n",
    "\n",
    "B. Amazon Neptune\n",
    "\n",
    "C. SQLite\n",
    "\n",
    "D. Amazon DynamoDB\n",
    "\n",
    "\n",
    "Which of the following is a file-based, lightweight RDBMS?\n",
    "\n",
    "A. Amazon RDS\n",
    "\n",
    "B. Amazon Neptune\n",
    "\n",
    "C Amazon DynamoDB\n",
    "\n",
    "D. SQLite\n",
    "\n",
    "\n",
    "Which AWS service enables you to store and query highly connected datasets?\n",
    "\n",
    "A. Amazon Relational Database Service (RDS)\n",
    "\n",
    "B. Amazon DynamoDB\n",
    "\n",
    "C. Amazon Neptune\n",
    "\n",
    "D. Amazon DocumentDB\n",
    "\n"
   ]
  }
 ],
 "metadata": {
  "kernelspec": {
   "display_name": "base",
   "language": "python",
   "name": "python3"
  },
  "language_info": {
   "name": "python",
   "version": "3.9.12"
  },
  "orig_nbformat": 4
 },
 "nbformat": 4,
 "nbformat_minor": 2
}
